{
 "cells": [
  {
   "attachments": {},
   "cell_type": "markdown",
   "metadata": {},
   "source": [
    "# Random Forests\n",
    "***\n",
    "\n",
    "In this notebook we will approach the prediction problem using Random Forests. \n",
    "\n",
    "There is an introductory section on random forests, condensed from *An introduction to Statistical Learning* by G. James, D. Witten, T. Hastie, and R. Tibshirani."
   ]
  },
  {
   "cell_type": "code",
   "execution_count": 62,
   "metadata": {},
   "outputs": [],
   "source": [
    "import numpy as np\n",
    "import pandas as pd\n",
    "from matplotlib.pyplot import subplots\n",
    "import sklearn.model_selection as skm\n",
    "from sklearn.preprocessing import OneHotEncoder, LabelEncoder, StandardScaler\n",
    "from sklearn.tree import (DecisionTreeClassifier as DTC,\n",
    "                          DecisionTreeRegressor as DTR,\n",
    "                          plot_tree,\n",
    "                          export_text)\n",
    "from sklearn.metrics import (accuracy_score,\n",
    "                             log_loss)\n",
    "from sklearn.ensemble import \\\n",
    "     (RandomForestRegressor as RF,\n",
    "      GradientBoostingRegressor as GBR,\n",
    "       RandomForestClassifier as RFC)\n",
    "import sklearn as sk\n",
    "from sklearn.model_selection import RandomizedSearchCV\n",
    "from xgboost import XGBClassifier\n",
    "\n",
    "from extraFunctions import *\n",
    "\n",
    "SEED = 42"
   ]
  },
  {
   "attachments": {},
   "cell_type": "markdown",
   "metadata": {},
   "source": [
    "## Theory\n",
    "***\n",
    "\n",
    "### Regression Trees\n",
    "***\n",
    "\n",
    "We  discuss the process of building a regression tree. Roughly speaking, there are two steps.\n",
    "1. We divide the predictor space - that is, the set of possible values for $X_1, X_2, \\ldots, X_p$ - into $J$ distinct and non-overlapping regions (high-dimensional rectangles), $R_1, R_2, \\ldots, R_J$.\n",
    "2. For every observation that falls into the region $R_j$, we make the same prediction, which is simply the mean of the response values for the training observations in $R_j$.\n",
    "\n",
    "The goal is to find boxes $R_1, \\ldots, R_J$ that minimize the RSS, given by\n",
    "$$\n",
    "\\sum_{j=1}^J \\sum_{i \\in R_j}\\left(y_i-\\hat{y}_{R_j}\\right)^2,\n",
    "$$\n",
    "where $\\hat{y}_{R_j}$ is the mean response for the training observations within the $j$ th box. \n",
    "\n",
    "<!-- We take a top-down, greedy approach that is known as recursive binary splitting. It begins at the top of the tree (at which point all observations belong to a single region) and then successively splits the predictor space; each split is indicated via two new branches further down on the tree. It is greedy because at each step of the tree-building process, the best split is made at that particular step, rather than looking ahead and picking a split that will lead to a better tree in some future step. -->\n",
    "\n",
    "In detail, for any $j$ and $s$, we define the pair of half-planes\n",
    "$$\n",
    "R_1(j, s)=\\left\\{X \\mid X_j<s\\right\\} \\text { and } R_2(j, s)=\\left\\{X \\mid X_j \\geq s\\right\\}\n",
    "$$\n",
    "and we seek the value of $j$ and $s$ that minimize the equation\n",
    "$$\n",
    "\\sum_{i: x_i \\in R_1(j, s)}\\left(y_i-\\hat{y}_{R_1}\\right)^2+\\sum_{i: x_i \\in R_2(j, s)}\\left(y_i-\\hat{y}_{R_2}\\right)^2,\n",
    "$$\n",
    "where $\\hat{y}_{R_1}$ is the mean response for the training observations in $R_1(j, s)$, and $\\hat{y}_{R_2}$ is the mean response for the training observations in $R_2(j, s)$. Finding the values of $j$ and $s$ that minimize can be done quite quickly, especially when the number of features $p$ is not too large.\n",
    "\n",
    "Next, we repeat the process, looking for the best predictor and best cutpoint in order to split the data further so as to minimize the RSS within each of the resulting regions. However, this time, instead of splitting the entire predictor space, we split one of the two previously identified regions. We now have three regions. Again, we look to split one of these three regions further, so as to minimize the RSS. The process continues until a stopping criterion is reached; for instance, we may continue until no region contains more than five observations.\n",
    "\n",
    "The process described above is likely to overfit. Therefore, we grow a very large tree $T_0$, and prune it back in order to obtain a subtree that leads to the lowest test error rate. \n",
    "\n",
    "Cost complexity pruning - also known as weakest link pruning - gives us a way to do this. We consider a sequence of trees indexed by a nonnegative tuning parameter $\\alpha$, for which there corresponds a subtree $T \\subset T_0$ such that\n",
    "$$\n",
    "\\sum_{m=1}^{|T|} \\sum_{i: x_i \\in R_m}\\left(y_i-\\hat{y}_{R_m}\\right)^2+\\alpha|T|\n",
    "$$\n",
    "is as small as possible. Here $|T|$ indicates the number of terminal nodes of the tree $T, R_m$ is the rectangle (i.e. the subset of predictor space) corresponding to the $m$ th terminal node, and $\\hat{y}_{R_m}$ is the predicted response associated with $R_m$. As $\\alpha$ increases, there is a price to pay for having a tree with many terminal nodes, and so the quantity above will tend to be minimized for a smaller subtree. It is reminiscent of the lasso.\n",
    "\n",
    "**Algorithm: Building a Regression Tree:**\n",
    "1. Use recursive binary splitting to grow a large tree on the training data, stopping only when each terminal node has fewer than some minimum number of observations.\n",
    "2. Apply cost complexity pruning to the large tree in order to obtain a sequence of best subtrees, as a function of $\\alpha$.\n",
    "3. Use K-fold cross-validation to choose $\\alpha$. That is, divide the training observations into $K$ folds. For each $k=1, \\ldots, K$ :\n",
    "    - (a) Repeat Steps 1 and 2 on all but the $k$ th fold of the training data.\n",
    "    - (b) Evaluate the mean squared prediction error on the data in the left-out $k$ th fold, as a function of $\\alpha$.\n",
    "Average the results for each value of $\\alpha$, and pick $\\alpha$ to minimize the average error.\n",
    "4. Return the subtree from Step 2 that corresponds to the chosen value of $\\alpha$."
   ]
  },
  {
   "attachments": {},
   "cell_type": "markdown",
   "metadata": {},
   "source": [
    "### Classification Trees\n",
    "***\n",
    "In the classification setting, RSS cannot be used as a criterion for making the binary splits. A natural alternative to RSS is the classification error rate, which is the fraction of the training observations in that region that do not belong to the most common class:\n",
    "$$\n",
    "E=1-\\max _k\\left(\\hat{p}_{m k}\\right) .\n",
    "$$\n",
    "\n",
    "Here $\\hat{p}_{m k}$ represents the proportion of training observations in the $m$ th region that are from the $k$ th class. However, it turns out that classification error is not sufficiently sensitive for tree-growing.\n",
    "\n",
    "An alternative is the Gini index is defined by\n",
    "$$\n",
    "G=\\sum_{k=1}^K \\hat{p}_{m k}\\left(1-\\hat{p}_{m k}\\right),\n",
    "$$\n",
    "a measure of total variance across the $K$ classes. It is not hard to see a measure of total variance across the $K$ classes. It is not hard to see that the Gini index takes on a small value if all of the $\\hat{p}_{m k}$ 's are close to zero or one. For this reason the Gini index is referred to as a measure of node purity."
   ]
  },
  {
   "attachments": {},
   "cell_type": "markdown",
   "metadata": {},
   "source": [
    "### Bagging \n",
    "***\n",
    "\n",
    "The decision trees discussed so far suffer from high variance. Bootstrap aggregation, or bagging, is a general-purpose procedure for reducing the variance of a statistical learning method.\n",
    "\n",
    "Recall that given a set of $n$ independent observations $Z_1, \\ldots, Z_n$, each with variance $\\sigma^2$, the variance of the mean $\\bar{Z}$ of the observations is given by $\\sigma^2 / n$. Hence a natural way to reduce the variance and increase the test set accuracy of a statistical learning method is to take many training sets from the population, build a separate prediction model using each training set. This is not practical because we generally do not have access to multiple training sets. Instead, we can bootstrap, by taking repeated samples from the (single) training data set. In this approach we generate $B$ different bootstrapped training data sets. We then train our method on the $b$ th bootstrapped training set in order to get $\\hat{f}^{* b}(x)$, and finally average all the predictions, to obtain\n",
    "$$\n",
    "\\hat{f}_{\\mathrm{bag}}(x)=\\frac{1}{B} \\sum_{b=1}^B \\hat{f}^{* b}(x) .\n",
    "$$\n",
    "\n",
    "To apply bagging to regression trees, we simply construct $B$ regression trees using $B$ bootstrapped training sets, and average the resulting predictions. These trees are grown deep, and are not pruned. Hence each individual tree has high variance, but low bias. Averaging these $B$ trees reduces the variance. When $Y$ is qualitative, we can record the class predicted by each of the $B$ trees, and take a majority vote: the overall prediction is the most commonly occurring class among the $B$ predictions."
   ]
  },
  {
   "attachments": {},
   "cell_type": "markdown",
   "metadata": {},
   "source": [
    "### Random Forests \n",
    "***\n",
    "\n",
    "Random forests provide an improvement over bagged trees by way of a small tweak that decorrelates the trees. As in bagging, we build a number of decision trees on bootstrapped training samples. But when building these decision trees, each time a split is considered, a random sample of $m$ predictors is chosen as split candidates from the full set of $p$ predictors. A fresh sample of $m$ predictors is taken at each split, and typically we choose $m \\approx \\sqrt{p}$, where $p$ is the the total number of predictors.\n",
    "\n",
    "The rationale is as follows: Suppose that there is one very strong predictor in the data set, along with a number of other moderately strong predictors. Then in the collection of bagged trees, most or all of the trees will use this strong predictor in the top split. Consequently, all of the bagged trees will look quite similar to each other. Hence the predictions from the bagged trees will be highly correlated. In particular, this means that bagging alone will not lead to a substantial reduction in variance over a single tree in this setting."
   ]
  },
  {
   "attachments": {},
   "cell_type": "markdown",
   "metadata": {},
   "source": [
    "### Boosting \n",
    "***\n",
    "\n",
    "Boosting works in a similar way to Bagging except that the trees are grown sequentially: each tree is grown using information from previously grown trees. In particular, boosting does not involve bootstrap sampling; instead each tree is fit on a modified version of the original data set.\n",
    "\n",
    "**Algorithm: Boosting for Regression Trees**\n",
    "1. Set $\\hat{f}(x)=0$ and $r_i=y_i$ for all $i$ in the training set.\n",
    "2. For $b=1,2, \\ldots, B$, repeat:\n",
    "    - (a) Fit a tree $\\hat{f}^b$ with $d$ splits $(d+1$ terminal nodes) to the training data $(X, r)$.\n",
    "    - (b) Update $\\hat{f}$ by adding in a shrunken version of the new tree:\n",
    "    $$\n",
    "    \\hat{f}(x) \\leftarrow \\hat{f}(x)+\\lambda \\hat{f}^b(x) .\n",
    "    $$\n",
    "    - (c) Update the residuals,\n",
    "$$\n",
    "r_i \\leftarrow r_i-\\lambda \\hat{f}^b\\left(x_i\\right)\n",
    "$$\n",
    "3. Output the boosted model,\n",
    "$$\n",
    "\\hat{f}(x)=\\sum_{b=1}^B \\lambda \\hat{f}^b(x) .\n",
    "$$\n",
    "\n",
    "One can get a boosting algorithm for classification and more generally for learning methods with differentiable loss function functions. The algorithm for these cases is much the same as above, but the residuals are derived by differentiating the loss function, hence the name *Gradient Boosting*.\n",
    "\n",
    "A popular extension is to use the XGBOOST algorithm. In essence, this follows the same algorithm as above, except each tree in part 2 of the algorithm above is generated and pruned in a clever way."
   ]
  },
  {
   "attachments": {},
   "cell_type": "markdown",
   "metadata": {},
   "source": [
    "# Application\n",
    "***\n",
    "### The Titanic Data Set\n",
    "***\n",
    "\n",
    "First we load the data."
   ]
  },
  {
   "cell_type": "code",
   "execution_count": 63,
   "metadata": {},
   "outputs": [],
   "source": [
    "train = pd.read_csv('data/processedTrain.csv')\n",
    "test  = pd.read_csv('data/processedTest.csv')\n",
    "\n",
    "drop_cols = ['Deck', 'Embarked', 'Family', 'Family_Size', 'Family_Size_Grouped', 'Survived',\n",
    "             'Name', 'Parch', 'PassengerId', 'Pclass', 'Sex', 'SibSp', 'Ticket', 'Title',\n",
    "            'Ticket_Survival_Rate', 'Family_Survival_Rate', 'Ticket_Survival_Rate_NA', 'Family_Survival_Rate_NA']\n",
    "\n",
    "y = train['Survived'].values\n",
    "X = StandardScaler().fit_transform(train.drop(columns=drop_cols))\n",
    "X_test  = StandardScaler().fit_transform(test.drop(columns=drop_cols))\n",
    "\n",
    "X_train, X_cv, y_train, y_cv = skm.train_test_split(X, y, test_size=0.2, random_state=42)"
   ]
  },
  {
   "attachments": {},
   "cell_type": "markdown",
   "metadata": {},
   "source": [
    "### Random Forest Classifier\n",
    "***\n",
    "We will begin by using a standard Random Forest classifier."
   ]
  },
  {
   "cell_type": "code",
   "execution_count": 64,
   "metadata": {},
   "outputs": [
    {
     "data": {
      "text/html": [
       "<style>#sk-container-id-9 {color: black;}#sk-container-id-9 pre{padding: 0;}#sk-container-id-9 div.sk-toggleable {background-color: white;}#sk-container-id-9 label.sk-toggleable__label {cursor: pointer;display: block;width: 100%;margin-bottom: 0;padding: 0.3em;box-sizing: border-box;text-align: center;}#sk-container-id-9 label.sk-toggleable__label-arrow:before {content: \"▸\";float: left;margin-right: 0.25em;color: #696969;}#sk-container-id-9 label.sk-toggleable__label-arrow:hover:before {color: black;}#sk-container-id-9 div.sk-estimator:hover label.sk-toggleable__label-arrow:before {color: black;}#sk-container-id-9 div.sk-toggleable__content {max-height: 0;max-width: 0;overflow: hidden;text-align: left;background-color: #f0f8ff;}#sk-container-id-9 div.sk-toggleable__content pre {margin: 0.2em;color: black;border-radius: 0.25em;background-color: #f0f8ff;}#sk-container-id-9 input.sk-toggleable__control:checked~div.sk-toggleable__content {max-height: 200px;max-width: 100%;overflow: auto;}#sk-container-id-9 input.sk-toggleable__control:checked~label.sk-toggleable__label-arrow:before {content: \"▾\";}#sk-container-id-9 div.sk-estimator input.sk-toggleable__control:checked~label.sk-toggleable__label {background-color: #d4ebff;}#sk-container-id-9 div.sk-label input.sk-toggleable__control:checked~label.sk-toggleable__label {background-color: #d4ebff;}#sk-container-id-9 input.sk-hidden--visually {border: 0;clip: rect(1px 1px 1px 1px);clip: rect(1px, 1px, 1px, 1px);height: 1px;margin: -1px;overflow: hidden;padding: 0;position: absolute;width: 1px;}#sk-container-id-9 div.sk-estimator {font-family: monospace;background-color: #f0f8ff;border: 1px dotted black;border-radius: 0.25em;box-sizing: border-box;margin-bottom: 0.5em;}#sk-container-id-9 div.sk-estimator:hover {background-color: #d4ebff;}#sk-container-id-9 div.sk-parallel-item::after {content: \"\";width: 100%;border-bottom: 1px solid gray;flex-grow: 1;}#sk-container-id-9 div.sk-label:hover label.sk-toggleable__label {background-color: #d4ebff;}#sk-container-id-9 div.sk-serial::before {content: \"\";position: absolute;border-left: 1px solid gray;box-sizing: border-box;top: 0;bottom: 0;left: 50%;z-index: 0;}#sk-container-id-9 div.sk-serial {display: flex;flex-direction: column;align-items: center;background-color: white;padding-right: 0.2em;padding-left: 0.2em;position: relative;}#sk-container-id-9 div.sk-item {position: relative;z-index: 1;}#sk-container-id-9 div.sk-parallel {display: flex;align-items: stretch;justify-content: center;background-color: white;position: relative;}#sk-container-id-9 div.sk-item::before, #sk-container-id-9 div.sk-parallel-item::before {content: \"\";position: absolute;border-left: 1px solid gray;box-sizing: border-box;top: 0;bottom: 0;left: 50%;z-index: -1;}#sk-container-id-9 div.sk-parallel-item {display: flex;flex-direction: column;z-index: 1;position: relative;background-color: white;}#sk-container-id-9 div.sk-parallel-item:first-child::after {align-self: flex-end;width: 50%;}#sk-container-id-9 div.sk-parallel-item:last-child::after {align-self: flex-start;width: 50%;}#sk-container-id-9 div.sk-parallel-item:only-child::after {width: 0;}#sk-container-id-9 div.sk-dashed-wrapped {border: 1px dashed gray;margin: 0 0.4em 0.5em 0.4em;box-sizing: border-box;padding-bottom: 0.4em;background-color: white;}#sk-container-id-9 div.sk-label label {font-family: monospace;font-weight: bold;display: inline-block;line-height: 1.2em;}#sk-container-id-9 div.sk-label-container {text-align: center;}#sk-container-id-9 div.sk-container {/* jupyter's `normalize.less` sets `[hidden] { display: none; }` but bootstrap.min.css set `[hidden] { display: none !important; }` so we also need the `!important` here to be able to override the default hidden behavior on the sphinx rendered scikit-learn.org. See: https://github.com/scikit-learn/scikit-learn/issues/21755 */display: inline-block !important;position: relative;}#sk-container-id-9 div.sk-text-repr-fallback {display: none;}</style><div id=\"sk-container-id-9\" class=\"sk-top-container\"><div class=\"sk-text-repr-fallback\"><pre>RandomForestClassifier(max_depth=5, n_estimators=1000, random_state=42)</pre><b>In a Jupyter environment, please rerun this cell to show the HTML representation or trust the notebook. <br />On GitHub, the HTML representation is unable to render, please try loading this page with nbviewer.org.</b></div><div class=\"sk-container\" hidden><div class=\"sk-item\"><div class=\"sk-estimator sk-toggleable\"><input class=\"sk-toggleable__control sk-hidden--visually\" id=\"sk-estimator-id-9\" type=\"checkbox\" checked><label for=\"sk-estimator-id-9\" class=\"sk-toggleable__label sk-toggleable__label-arrow\">RandomForestClassifier</label><div class=\"sk-toggleable__content\"><pre>RandomForestClassifier(max_depth=5, n_estimators=1000, random_state=42)</pre></div></div></div></div></div>"
      ],
      "text/plain": [
       "RandomForestClassifier(max_depth=5, n_estimators=1000, random_state=42)"
      ]
     },
     "execution_count": 64,
     "metadata": {},
     "output_type": "execute_result"
    }
   ],
   "source": [
    "model = RFC(n_estimators=1000, max_depth=5, random_state=SEED)\n",
    "model.fit(X_train, y_train)"
   ]
  },
  {
   "cell_type": "code",
   "execution_count": 65,
   "metadata": {},
   "outputs": [
    {
     "name": "stdout",
     "output_type": "stream",
     "text": [
      "The fraction of correct predictions is 0.85\n",
      "The precision is 0.84\n",
      "The recall is 0.78\n",
      "The specificity is 0.85\n"
     ]
    },
    {
     "data": {
      "image/png": "[encoded data removed]",
      "text/plain": [
       "<Figure size 640x480 with 2 Axes>"
      ]
     },
     "metadata": {},
     "output_type": "display_data"
    }
   ],
   "source": [
    "confusionMatrix(model,X_cv,y_cv)"
   ]
  },
  {
   "cell_type": "code",
   "execution_count": 66,
   "metadata": {},
   "outputs": [
    {
     "name": "stdout",
     "output_type": "stream",
     "text": [
      "Your submission was successfully saved!\n"
     ]
    }
   ],
   "source": [
    "model = RFC(n_estimators=1000, max_depth=5, random_state=SEED)\n",
    "model.fit(X, y)\n",
    "saveSubmission(model, X_test, test, 'submissionRF')"
   ]
  },
  {
   "attachments": {},
   "cell_type": "markdown",
   "metadata": {},
   "source": [
    "... This is already as good (if not better) than the SVM approach. In fact, we get an 0.8 score for a submission with this. Let's see if we can improve! Let's mess around with the parameters a bit."
   ]
  },
  {
   "cell_type": "code",
   "execution_count": 67,
   "metadata": {},
   "outputs": [
    {
     "name": "stderr",
     "output_type": "stream",
     "text": [
      "/Users/osianshelley/opt/anaconda3/envs/statisticalLearning/lib/python3.11/site-packages/sklearn/model_selection/_search.py:307: UserWarning: The total space of parameters 3 is smaller than n_iter=50. Running 3 iterations. For exhaustive searches, use GridSearchCV.\n",
      "  warnings.warn(\n"
     ]
    },
    {
     "name": "stdout",
     "output_type": "stream",
     "text": [
      "Best parameters found:  {'n_estimators': 900, 'max_depth': 7}\n",
      "Best accuracy found:  0.8440756426671919\n"
     ]
    }
   ],
   "source": [
    "model = RFC(criterion='gini', \n",
    "            min_samples_split=4,\n",
    "            min_samples_leaf=5,\n",
    "            oob_score=True,\n",
    "            random_state=SEED,\n",
    "            n_jobs=-1,\n",
    "            verbose=0)\n",
    "\n",
    "# Round 1\n",
    "# # Create grid for searching\n",
    "# rf_param_grid = {\n",
    "#     'n_estimators' : [900,1000,1100,1200],\n",
    "#     'max_depth': [3,5,7,9],\n",
    "# }\n",
    "\n",
    "# Round 2\n",
    "# Create grid for searching\n",
    "rf_param_grid = {\n",
    "    'n_estimators' : [900],\n",
    "    'max_depth': [6,7,8],\n",
    "}\n",
    "\n",
    "# Perform random search\n",
    "rf_random = RandomizedSearchCV(param_distributions=rf_param_grid, \n",
    "                                    estimator = model, scoring = \"accuracy\", \n",
    "                                    verbose = 0, n_iter = 50, cv = 5)\n",
    "\n",
    "# Fit to the data\n",
    "rf_random.fit(X_train, y_train)\n",
    "\n",
    "print(\"Best parameters found: \", rf_random.best_params_)\n",
    "print(\"Best accuracy found: \", rf_random.best_score_)"
   ]
  },
  {
   "cell_type": "code",
   "execution_count": 68,
   "metadata": {},
   "outputs": [
    {
     "name": "stdout",
     "output_type": "stream",
     "text": [
      "The fraction of correct predictions is 0.87\n",
      "The precision is 0.86\n",
      "The recall is 0.81\n",
      "The specificity is 0.87\n"
     ]
    },
    {
     "data": {
      "image/png": "[encoded data removed]",
      "text/plain": [
       "<Figure size 640x480 with 2 Axes>"
      ]
     },
     "metadata": {},
     "output_type": "display_data"
    }
   ],
   "source": [
    "confusionMatrix(rf_random,X_cv,y_cv)"
   ]
  },
  {
   "attachments": {},
   "cell_type": "markdown",
   "metadata": {},
   "source": [
    "The best parameters we've found give a score of 81% on Kaggle! The model below gives a slightly higher score, but was deduced from fiddling with my submissions."
   ]
  },
  {
   "cell_type": "code",
   "execution_count": 69,
   "metadata": {},
   "outputs": [
    {
     "name": "stdout",
     "output_type": "stream",
     "text": [
      "Your submission was successfully saved!\n"
     ]
    }
   ],
   "source": [
    "model = RFC(criterion='gini', \n",
    "            n_estimators=1100,\n",
    "            max_depth=5,\n",
    "            min_samples_split=4,\n",
    "            min_samples_leaf=5,\n",
    "            oob_score=True,\n",
    "            random_state=SEED,\n",
    "            n_jobs=-1,\n",
    "            verbose=0)\n",
    "model.fit(X,y)\n",
    "saveSubmission(model,X_test,test,'submissionRFTuned')"
   ]
  },
  {
   "attachments": {},
   "cell_type": "markdown",
   "metadata": {},
   "source": [
    "### XGBOOST\n",
    "***\n",
    "Finally we have a go at using XGBOOST:"
   ]
  },
  {
   "cell_type": "code",
   "execution_count": 76,
   "metadata": {},
   "outputs": [],
   "source": [
    "# # Round 1\n",
    "# # Create the parameter grid: gbm_param_grid \n",
    "# gbm_param_grid = {\n",
    "#     'max_depth': [4,8,6,10],\n",
    "#     'gamma': [0,0.25,1.0],\n",
    "#     'reg_lambda': [0,1.0,10.0],\n",
    "#     'learning_rate': [.01,0.05,0.1],\n",
    "#     'scale_pos_weight': [1,3,5]\n",
    "# }\n",
    "# {'scale_pos_weight': 1, 'reg_lambda': 10.0, 'max_depth': 6, 'learning_rate': 0.01, 'gamma': 0.25}\n",
    "\n",
    "# Round 2\n",
    "# Create the parameter grid: gbm_param_grid \n",
    "gbm_param_grid = {\n",
    "    'max_depth': [5,6,7],\n",
    "    'gamma': [0,0.25,0.5],\n",
    "    'reg_lambda': [7.5,10.0,12,5],\n",
    "    'learning_rate': [0.005,.01,0.015],\n",
    "    'scale_pos_weight': [0.5,1,1.5]\n",
    "}\n",
    "\n",
    "# Instantiate the regressor: gbm\n",
    "gbm = XGBClassifier(n_estimators=1000)\n",
    "\n",
    "# Perform random search: grid_mse\n",
    "xgb_random = RandomizedSearchCV(param_distributions=gbm_param_grid, \n",
    "                                    estimator = gbm, scoring = \"accuracy\", \n",
    "                                    verbose = 0, n_iter = 50, cv = 5)\n",
    "\n",
    "\n",
    "# Fit randomized_mse to the data\n",
    "xgb_random.fit(X_train, y_train)\n",
    "\n",
    "print(\"Best parameters found: \", xgb_random.best_params_)\n",
    "print(\"Best accuracy found: \", xgb_random.best_score_)"
   ]
  },
  {
   "cell_type": "code",
   "execution_count": 75,
   "metadata": {},
   "outputs": [
    {
     "name": "stdout",
     "output_type": "stream",
     "text": [
      "The fraction of correct predictions is 0.85\n",
      "The precision is 0.82\n",
      "The recall is 0.82\n",
      "The specificity is 0.88\n"
     ]
    },
    {
     "data": {
      "image/png": "[encoded data removed]",
      "text/plain": [
       "<Figure size 640x480 with 2 Axes>"
      ]
     },
     "metadata": {},
     "output_type": "display_data"
    }
   ],
   "source": [
    "confusionMatrix(xgb_random,X_cv,y_cv)"
   ]
  },
  {
   "cell_type": "code",
   "execution_count": null,
   "metadata": {},
   "outputs": [],
   "source": [
    "gbm = XGBClassifier( n_estimators=1100,\n",
    "\n",
    "            max_depth=5,\n",
    "            min_samples_split=4,\n",
    "            min_samples_leaf=5,\n",
    "            oob_score=True,\n",
    "            random_state=SEED,\n",
    "            n_jobs=-1,\n",
    "            verbose=0)\n",
    "model.fit(X,y)\n",
    "saveSubmission(model,X_test,test,'submissionRFTuned')"
   ]
  }
 ],
 "metadata": {
  "kernelspec": {
   "display_name": "statisticalLearning",
   "language": "python",
   "name": "python3"
  },
  "language_info": {
   "codemirror_mode": {
    "name": "ipython",
    "version": 3
   },
   "file_extension": ".py",
   "mimetype": "text/x-python",
   "name": "python",
   "nbconvert_exporter": "python",
   "pygments_lexer": "ipython3",
   "version": "3.11.4"
  },
  "orig_nbformat": 4
 },
 "nbformat": 4,
 "nbformat_minor": 2
}
